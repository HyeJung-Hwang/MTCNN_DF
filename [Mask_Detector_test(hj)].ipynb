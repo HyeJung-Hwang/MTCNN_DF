{
  "nbformat": 4,
  "nbformat_minor": 0,
  "metadata": {
    "colab": {
      "name": "[Mask Detector test(hj)].ipynb의 사본",
      "provenance": [],
      "private_outputs": true,
      "authorship_tag": "ABX9TyOk5qsEBB2WhcMPqZ90RMVy",
      "include_colab_link": true
    },
    "kernelspec": {
      "name": "python3",
      "display_name": "Python 3"
    },
    "language_info": {
      "name": "python"
    }
  },
  "cells": [
    {
      "cell_type": "markdown",
      "metadata": {
        "id": "view-in-github",
        "colab_type": "text"
      },
      "source": [
        "<a href=\"https://colab.research.google.com/github/HyeJung-Hwang/MTCNN_DF/blob/main/%5BMask_Detector_test(hj)%5D.ipynb\" target=\"_parent\"><img src=\"https://colab.research.google.com/assets/colab-badge.svg\" alt=\"Open In Colab\"/></a>"
      ]
    },
    {
      "cell_type": "markdown",
      "source": [
        "드라이브 마운트"
      ],
      "metadata": {
        "id": "IaG8EY1xx1P5"
      }
    },
    {
      "cell_type": "code",
      "execution_count": null,
      "metadata": {
        "id": "Csv00QY9DpR4"
      },
      "outputs": [],
      "source": [
        "from google.colab import drive\n",
        "drive.mount('/content/drive')"
      ]
    },
    {
      "cell_type": "markdown",
      "source": [
        "필요 라이브러리 import"
      ],
      "metadata": {
        "id": "enNNU6xSx576"
      }
    },
    {
      "cell_type": "code",
      "source": [
        "import os"
      ],
      "metadata": {
        "id": "Ol_BnyKtx5Xc"
      },
      "execution_count": null,
      "outputs": []
    },
    {
      "cell_type": "markdown",
      "source": [
        "경로 변경"
      ],
      "metadata": {
        "id": "zzdtS0s47An6"
      }
    },
    {
      "cell_type": "code",
      "source": [
        "cd  \"/content/drive/MyDrive/group/pming/2022_1/cctv-mask-detector\""
      ],
      "metadata": {
        "id": "Hfefb0yb6_3a"
      },
      "execution_count": null,
      "outputs": []
    },
    {
      "cell_type": "code",
      "source": [
        "import glob\n",
        "from mtcnn import MTCNN\n",
        "from PIL import Image"
      ],
      "metadata": {
        "id": "PtTlOfN7BKrO"
      },
      "execution_count": null,
      "outputs": []
    },
    {
      "cell_type": "markdown",
      "source": [
        "detection 정보 테스트"
      ],
      "metadata": {
        "id": "SIjcTzdxCgmq"
      }
    },
    {
      "cell_type": "code",
      "source": [
        "path = \"/content/drive/MyDrive/test/dataset\"\n",
        "file_list = os.listdir(path)"
      ],
      "metadata": {
        "id": "BwDbZSSoCjKO"
      },
      "execution_count": null,
      "outputs": []
    },
    {
      "cell_type": "code",
      "source": [
        "detector = MTCNN()"
      ],
      "metadata": {
        "id": "kQEO2F0wETKh"
      },
      "execution_count": null,
      "outputs": []
    },
    {
      "cell_type": "code",
      "source": [
        "result = {}\n",
        "for i in file_list:\n",
        "    img = Image.open(os.path.join(path,i)) \n",
        "    result[i] = detector.detect(img,landmarks=True)"
      ],
      "metadata": {
        "id": "l8Q4Qu5HEPJN"
      },
      "execution_count": null,
      "outputs": []
    },
    {
      "cell_type": "code",
      "source": [
        "result"
      ],
      "metadata": {
        "id": "o91mG5icFXZJ"
      },
      "execution_count": null,
      "outputs": []
    },
    {
      "cell_type": "markdown",
      "source": [
        "train / test 폴더내의 데이터셋 이미지 순서대로 이름 정하기 "
      ],
      "metadata": {
        "id": "vEkRmn6lyJE6"
      }
    },
    {
      "cell_type": "code",
      "source": [
        "!python rename_image_files.py --rename_files_dir=\"mask_dataset/train/protected\""
      ],
      "metadata": {
        "id": "GR0SBvaVNMQL"
      },
      "execution_count": null,
      "outputs": []
    },
    {
      "cell_type": "code",
      "source": [
        "!python rename_image_files.py --rename_files_dir=\"mask_dataset/test/protected\""
      ],
      "metadata": {
        "id": "whh8o2Sjke_u"
      },
      "execution_count": null,
      "outputs": []
    },
    {
      "cell_type": "code",
      "source": [
        "!python rename_image_files.py --rename_files_dir=\"mask_dataset/test/unprotected\""
      ],
      "metadata": {
        "id": "nzTnumJvkhs-"
      },
      "execution_count": null,
      "outputs": []
    },
    {
      "cell_type": "code",
      "source": [
        "!python rename_image_files.py --rename_files_dir=\"mask_dataset/train/unprotected\""
      ],
      "metadata": {
        "id": "oF03IhWBdHIn"
      },
      "execution_count": null,
      "outputs": []
    },
    {
      "cell_type": "markdown",
      "source": [
        "train  후 모델 저장할 directory 생성"
      ],
      "metadata": {
        "id": "VJWFXuIn62PF"
      }
    },
    {
      "cell_type": "code",
      "source": [
        "mkdir models"
      ],
      "metadata": {
        "id": "4lZ5AGntQwai"
      },
      "execution_count": null,
      "outputs": []
    },
    {
      "cell_type": "markdown",
      "source": [
        "train"
      ],
      "metadata": {
        "id": "QHsLTFVO7IXX"
      }
    },
    {
      "cell_type": "code",
      "source": [
        "!python train_mask_detector.py --train_examples_path=\"mask_dataset/train\" --train_dataset_size_per_class=230 --batch_size_per_class=4 --num_epochs=10"
      ],
      "metadata": {
        "id": "ZFV9SREtQzfT"
      },
      "execution_count": null,
      "outputs": []
    },
    {
      "cell_type": "markdown",
      "source": [
        "test"
      ],
      "metadata": {
        "id": "hAa_uxom7J32"
      }
    },
    {
      "cell_type": "code",
      "source": [
        "!python test_detector.py --detector_model_path=\"models/detector.pt\" --test_examples_path=\"mask_dataset/test\""
      ],
      "metadata": {
        "id": "LqqxEfh7lW8d"
      },
      "execution_count": null,
      "outputs": []
    }
  ]
}